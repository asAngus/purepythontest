{
 "cells": [
  {
   "cell_type": "code",
   "execution_count": null,
   "metadata": {
    "collapsed": true
   },
   "outputs": [],
   "source": [
    "# https://rawgit.com/ztane/python-Levenshtein/master/docs/Levenshtein.html"
   ]
  },
  {
   "cell_type": "code",
   "execution_count": 1,
   "metadata": {
    "collapsed": true
   },
   "outputs": [],
   "source": [
    "import Levenshtein"
   ]
  },
  {
   "cell_type": "code",
   "execution_count": 2,
   "metadata": {
    "collapsed": true
   },
   "outputs": [],
   "source": [
    "s = 'jj i2jklaskjdfu9i2lkj askd8f9uij2'\n",
    "t = 'jakj  92j3kkja 9awjernlk qwejrioa'"
   ]
  },
  {
   "cell_type": "code",
   "execution_count": 3,
   "metadata": {
    "collapsed": false
   },
   "outputs": [
    {
     "data": {
      "text/plain": [
       "29"
      ]
     },
     "execution_count": 3,
     "metadata": {},
     "output_type": "execute_result"
    }
   ],
   "source": [
    "# 汉明距离: 两个等长字串之间 对应 位置上 不同 字符的个数\n",
    "Levenshtein.hamming(s, t)"
   ]
  },
  {
   "cell_type": "code",
   "execution_count": 4,
   "metadata": {
    "collapsed": false
   },
   "outputs": [
    {
     "data": {
      "text/plain": [
       "27"
      ]
     },
     "execution_count": 4,
     "metadata": {},
     "output_type": "execute_result"
    }
   ],
   "source": [
    "# Levenshtein距离(编辑距离): 由一个字串转化成另一个字串 最少 的操作次数, 其中的操作包括 插入 、 删除 、 替换\n",
    "Levenshtein.distance(s, t)"
   ]
  },
  {
   "cell_type": "code",
   "execution_count": 5,
   "metadata": {
    "collapsed": false
   },
   "outputs": [
    {
     "data": {
      "text/plain": [
       "0.3939393939393939"
      ]
     },
     "execution_count": 5,
     "metadata": {},
     "output_type": "execute_result"
    }
   ],
   "source": [
    "# 莱文斯坦比: r = (sum - ldist) / sum, 其中sum是指str1 和 str2 字串的长度总和，ldist是 类编辑距离\n",
    "Levenshtein.ratio(s, t)"
   ]
  },
  {
   "cell_type": "code",
   "execution_count": 6,
   "metadata": {
    "collapsed": false
   },
   "outputs": [
    {
     "data": {
      "text/plain": [
       "0.5680489101541732"
      ]
     },
     "execution_count": 6,
     "metadata": {},
     "output_type": "execute_result"
    }
   ],
   "source": [
    "# jaro距离\n",
    "Levenshtein.jaro(s, t)"
   ]
  },
  {
   "cell_type": "code",
   "execution_count": 7,
   "metadata": {
    "collapsed": false
   },
   "outputs": [
    {
     "data": {
      "text/plain": [
       "0.6112440191387559"
      ]
     },
     "execution_count": 7,
     "metadata": {},
     "output_type": "execute_result"
    }
   ],
   "source": [
    "# Jaro–Winkler距离\n",
    "Levenshtein.jaro_winkler(s, t)"
   ]
  },
  {
   "cell_type": "code",
   "execution_count": 8,
   "metadata": {
    "collapsed": false
   },
   "outputs": [
    {
     "data": {
      "text/plain": [
       "[('insert', 1, 1),\n",
       " ('insert', 1, 2),\n",
       " ('insert', 2, 4),\n",
       " ('replace', 3, 6),\n",
       " ('delete', 6, 9),\n",
       " ('delete', 7, 9),\n",
       " ('replace', 8, 9),\n",
       " ('replace', 9, 10),\n",
       " ('delete', 12, 13),\n",
       " ('replace', 13, 13),\n",
       " ('replace', 14, 14),\n",
       " ('replace', 16, 16),\n",
       " ('replace', 17, 17),\n",
       " ('replace', 18, 18),\n",
       " ('replace', 19, 19),\n",
       " ('replace', 20, 20),\n",
       " ('replace', 21, 21),\n",
       " ('replace', 22, 22),\n",
       " ('replace', 23, 23),\n",
       " ('replace', 24, 24),\n",
       " ('replace', 25, 25),\n",
       " ('replace', 26, 26),\n",
       " ('replace', 27, 27),\n",
       " ('replace', 28, 28),\n",
       " ('replace', 29, 29),\n",
       " ('replace', 31, 31),\n",
       " ('replace', 32, 32)]"
      ]
     },
     "execution_count": 8,
     "metadata": {},
     "output_type": "execute_result"
    }
   ],
   "source": [
    "# 编辑操作（代表转换所需要的操作）\n",
    "Levenshtein.editops(s, t)"
   ]
  },
  {
   "cell_type": "code",
   "execution_count": 15,
   "metadata": {
    "collapsed": false
   },
   "outputs": [
    {
     "name": "stdout",
     "output_type": "stream",
     "text": [
      "True\n",
      "[('delete', 0, 0), ('insert', 3, 2), ('replace', 3, 3)]\n",
      "True\n",
      "[('insert', 0, 0), ('delete', 2, 3), ('replace', 3, 3)]\n"
     ]
    }
   ],
   "source": [
    "# 反转 转换\n",
    "s, t = 'spam', 'park'\n",
    "ops = Levenshtein.editops(s, t)\n",
    "ops2 = Levenshtein.editops(t, s)\n",
    "print(ops == Levenshtein.inverse(ops2))\n",
    "print(ops)\n",
    "print(ops2 == Levenshtein.inverse(ops))\n",
    "print(ops2)"
   ]
  },
  {
   "cell_type": "code",
   "execution_count": null,
   "metadata": {
    "collapsed": true
   },
   "outputs": [],
   "source": []
  }
 ],
 "metadata": {
  "anaconda-cloud": {},
  "kernelspec": {
   "display_name": "Python 3",
   "language": "python",
   "name": "python3"
  },
  "language_info": {
   "codemirror_mode": {
    "name": "ipython",
    "version": 3
   },
   "file_extension": ".py",
   "mimetype": "text/x-python",
   "name": "python",
   "nbconvert_exporter": "python",
   "pygments_lexer": "ipython3",
   "version": "3.5.2"
  }
 },
 "nbformat": 4,
 "nbformat_minor": 0
}
