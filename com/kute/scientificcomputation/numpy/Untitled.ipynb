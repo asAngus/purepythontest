{
 "cells": [
  {
   "cell_type": "code",
   "execution_count": 1,
   "metadata": {},
   "outputs": [],
   "source": [
    "import numpy"
   ]
  },
  {
   "cell_type": "code",
   "execution_count": 2,
   "metadata": {},
   "outputs": [],
   "source": [
    "dary = numpy.loadtxt(\"load.txt\", delimiter=\" \", dtype=str)"
   ]
  },
  {
   "cell_type": "code",
   "execution_count": 3,
   "metadata": {},
   "outputs": [
    {
     "data": {
      "text/plain": [
       "array([['b\\'\"b\\\\\\'10/31/2016\\\\\\'\"\\'', 'b\\'\"b\\\\\\'23.1\\\\\\'\"\\'',\n",
       "        'b\\'\"b\\\\\\'2321.12\\\\\\'\"\\''],\n",
       "       ['b\\'\"b\\\\\\'11/31/2016\\\\\\'\"\\'', 'b\\'\"b\\\\\\'23.2\\\\\\'\"\\'',\n",
       "        'b\\'\"b\\\\\\'2321.14\\\\\\'\"\\''],\n",
       "       ['b\\'\"b\\\\\\'12/31/2016\\\\\\'\"\\'', 'b\\'\"b\\\\\\'23.3\\\\\\'\"\\'',\n",
       "        'b\\'\"b\\\\\\'2321.125\\\\\\'\"\\''],\n",
       "       ['b\\'\"b\\\\\\'13/31/2016\\\\\\'\"\\'', 'b\\'\"b\\\\\\'23.4\\\\\\'\"\\'',\n",
       "        'b\\'\"b\\\\\\'2321.125\\\\\\'\"\\'']], \n",
       "      dtype='<U20')"
      ]
     },
     "execution_count": 3,
     "output_type": "execute_result",
     "metadata": {}
    }
   ],
   "source": [
    "dary"
   ]
  },
  {
   "cell_type": "code",
   "execution_count": null,
   "metadata": {},
   "outputs": [],
   "source": [
    ""
   ]
  }
 ],
 "metadata": {
  "kernelspec": {
   "display_name": "Python 3",
   "language": "python",
   "name": "python3"
  },
  "language_info": {
   "codemirror_mode": {
    "name": "ipython",
    "version": 3.0
   },
   "file_extension": ".py",
   "mimetype": "text/x-python",
   "name": "python",
   "nbconvert_exporter": "python",
   "pygments_lexer": "ipython3",
   "version": "3.5.2"
  }
 },
 "nbformat": 4,
 "nbformat_minor": 1
}